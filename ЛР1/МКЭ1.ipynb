{
  "nbformat": 4,
  "nbformat_minor": 0,
  "metadata": {
    "colab": {
      "provenance": []
    },
    "kernelspec": {
      "name": "python3",
      "display_name": "Python 3"
    },
    "language_info": {
      "name": "python"
    }
  },
  "cells": [
    {
      "cell_type": "code",
      "execution_count": 1,
      "metadata": {
        "id": "-_nP77ZJuNps"
      },
      "outputs": [],
      "source": [
        "import numpy as np\n",
        "import sympy as sp\n",
        "from sympy import Matrix"
      ]
    },
    {
      "cell_type": "code",
      "source": [
        "lambd = 75\n",
        "q = 150\n",
        "alpha = 10\n",
        "Tg = 25"
      ],
      "metadata": {
        "id": "GOsBO7CVuXDX"
      },
      "execution_count": 2,
      "outputs": []
    },
    {
      "cell_type": "code",
      "source": [
        "k = np.array([lambd/2, lambd/2, alpha/2, lambd/2, lambd, lambd/2, lambd, lambd, alpha, lambd/2, lambd, lambd/2, alpha/2, alpha/2, alpha/2, lambd, lambd, lambd/2, lambd/2, lambd, lambd, lambd/2, lambd, lambd, lambd, lambd/2, lambd, lambd, lambd/2, lambd/2, lambd/2, lambd/2])"
      ],
      "metadata": {
        "id": "fSOa08wOulzV"
      },
      "execution_count": 35,
      "outputs": []
    },
    {
      "cell_type": "code",
      "source": [
        "k.shape"
      ],
      "metadata": {
        "colab": {
          "base_uri": "https://localhost:8080/"
        },
        "id": "6gTKGMj3vHyN",
        "outputId": "403e28ae-69ea-4ea0-d130-b0716185804f"
      },
      "execution_count": 4,
      "outputs": [
        {
          "output_type": "execute_result",
          "data": {
            "text/plain": [
              "(32,)"
            ]
          },
          "metadata": {},
          "execution_count": 4
        }
      ]
    },
    {
      "cell_type": "code",
      "source": [
        "K = np.eye(18)"
      ],
      "metadata": {
        "id": "ocXLe9gNvOfa"
      },
      "execution_count": 36,
      "outputs": []
    },
    {
      "cell_type": "code",
      "source": [
        "K[0, 0] = k[0] + k[3]\n",
        "K[0, 1] = K[1, 0] = -k[0]\n",
        "K[0, 3] = K[3, 0] = -k[3]\n",
        "K[1, 1] = k[0] + k[1] + k[4]\n",
        "K[2, 1] = K[1, 2] = -k[1]\n",
        "K[1, 4] = K[4, 1] = -k[4]\n",
        "K[2, 2] = k[1] + k[5] + k[2]\n",
        "K[2, 5] = K[5, 2] = -k[5]\n",
        "K[3, 3] = k[3] + k[6] + k[9]\n",
        "K[3, 4] = K[4, 3] = -k[6]\n",
        "K[3, 6] = K[6, 3] = -k[9]\n",
        "K[4, 4] = k[4] + k[6] + k[9] + k[10]\n",
        "K[4, 5] = K[5, 4] = -k[7]\n",
        "K[4, 7] = K[7, 4] = -k[10]\n",
        "K[5, 5] = k[5] + k[7] + k[11] + k[9]\n",
        "K[5, 8] = K[8, 5] = -k[11]\n",
        "K[6, 6] = k[9] + k[15] + k[18]\n",
        "K[6, 7] = K[7, 6] = -k[15]\n",
        "K[6, 10] = K[10, 6] = -k[18]\n",
        "K[7, 7] = k[10] + k[15] + k[16] + k[19]\n",
        "K[7, 8] = K[8, 7] = -k[16]\n",
        "K[7, 11] = K[11, 7] = -k[19]\n",
        "K[8, 8] = k[11] + k[16] + k[19] + k[20] + k[12] + k[13]\n",
        "K[8, 9] = K[9, 8] = -k[17]\n",
        "K[8, 12] = K[12, 8] = -k[21]\n",
        "K[9, 9] = k[17] + k[21] + k[14]\n",
        "K[9, 13] = K[13, 9] = -k[21]\n",
        "K[10, 10] = k[18] + k[22] + k[25]\n",
        "K[10, 11] = K[11, 10] = -k[22]\n",
        "K[10, 14] = K[14, 10] = -k[25]\n",
        "K[11, 11] = k[19] + k[22] + k[23] + k[26]\n",
        "K[11, 12] = K[12, 11] = -k[23]\n",
        "K[11, 15] = K[15, 11] = -k[26]\n",
        "K[12, 12] = k[20] + k[23] + k[24] + k[27]\n",
        "K[12, 13] = K[13, 12] = -k[24]\n",
        "K[12, 16] = K[16, 12] = -k[27]\n",
        "K[13, 13] = k[21] + k[24] + k[28]\n",
        "K[17, 13] = K[13, 17] = -k[28]\n",
        "K[14, 14] = k[25] + k[29]\n",
        "K[14, 15] = K[15, 14] = -k[29]\n",
        "K[15, 15] = k[26] + k[29] + k[30]\n",
        "K[16, 15] = K[15, 16] = -k[30]\n",
        "K[16, 16] = k[27] + k[30] + k[31]\n",
        "K[16, 17] = K[17, 16] = -k[31]\n",
        "K[17, 17] = k[28] + k[31]"
      ],
      "metadata": {
        "id": "lNh7FJHWv8nZ"
      },
      "execution_count": 37,
      "outputs": []
    },
    {
      "cell_type": "code",
      "source": [
        "K"
      ],
      "metadata": {
        "colab": {
          "base_uri": "https://localhost:8080/"
        },
        "id": "Yv9lYIkj336N",
        "outputId": "4732a13b-9400-4cf4-da25-3c54f672d9da"
      },
      "execution_count": 33,
      "outputs": [
        {
          "output_type": "execute_result",
          "data": {
            "text/plain": [
              "array([[ 75. , -37.5,   0. , -37.5,   0. ,   0. ,   0. ,   0. ,   0. ,\n",
              "          0. ,   0. ,   0. ,   0. ,   0. ,   0. ,   0. ,   0. ,   0. ],\n",
              "       [-37.5, 150. , -37.5,   0. , -75. ,   0. ,   0. ,   0. ,   0. ,\n",
              "          0. ,   0. ,   0. ,   0. ,   0. ,   0. ,   0. ,   0. ,   0. ],\n",
              "       [  0. , -37.5,  80. ,   0. ,   0. , -37.5,   0. ,   0. ,   0. ,\n",
              "          0. ,   0. ,   0. ,   0. ,   0. ,   0. ,   0. ,   0. ,   0. ],\n",
              "       [-37.5,   0. ,   0. , 150. , -75. ,   0. , -37.5,   0. ,   0. ,\n",
              "          0. ,   0. ,   0. ,   0. ,   0. ,   0. ,   0. ,   0. ,   0. ],\n",
              "       [  0. , -75. ,   0. , -75. , 262.5, -75. ,   0. , -75. ,   0. ,\n",
              "          0. ,   0. ,   0. ,   0. ,   0. ,   0. ,   0. ,   0. ,   0. ],\n",
              "       [  0. ,   0. , -37.5,   0. , -75. , 225. ,   0. ,   0. , -75. ,\n",
              "          0. ,   0. ,   0. ,   0. ,   0. ,   0. ,   0. ,   0. ,   0. ],\n",
              "       [  0. ,   0. ,   0. , -37.5,   0. ,   0. , 150. , -75. ,   0. ,\n",
              "          0. , -37.5,   0. ,   0. ,   0. ,   0. ,   0. ,   0. ,   0. ],\n",
              "       [  0. ,   0. ,   0. ,   0. , -75. ,   0. , -75. , 300. , -75. ,\n",
              "          0. ,   0. , -75. ,   0. ,   0. ,   0. ,   0. ,   0. ,   0. ],\n",
              "       [  0. ,   0. ,   0. ,   0. ,   0. , -75. ,   0. , -75. , 310. ,\n",
              "        -37.5,   0. ,   0. , -37.5,   0. ,   0. ,   0. ,   0. ,   0. ],\n",
              "       [  0. ,   0. ,   0. ,   0. ,   0. ,   0. ,   0. ,   0. , -37.5,\n",
              "         80. ,   0. ,   0. ,   0. , -37.5,   0. ,   0. ,   0. ,   0. ],\n",
              "       [  0. ,   0. ,   0. ,   0. ,   0. ,   0. , -37.5,   0. ,   0. ,\n",
              "          0. , 150. , -75. ,   0. ,   0. , -37.5,   0. ,   0. ,   0. ],\n",
              "       [  0. ,   0. ,   0. ,   0. ,   0. ,   0. ,   0. , -75. ,   0. ,\n",
              "          0. , -75. , 300. , -75. ,   0. ,   0. , -75. ,   0. ,   0. ],\n",
              "       [  0. ,   0. ,   0. ,   0. ,   0. ,   0. ,   0. ,   0. , -37.5,\n",
              "          0. ,   0. , -75. , 300. , -75. ,   0. ,   0. , -75. ,   0. ],\n",
              "       [  0. ,   0. ,   0. ,   0. ,   0. ,   0. ,   0. ,   0. ,   0. ,\n",
              "        -37.5,   0. ,   0. , -75. , 150. ,   0. ,   0. ,   0. , -37.5],\n",
              "       [  0. ,   0. ,   0. ,   0. ,   0. ,   0. ,   0. ,   0. ,   0. ,\n",
              "          0. , -37.5,   0. ,   0. ,   0. ,  75. , -37.5,   0. ,   0. ],\n",
              "       [  0. ,   0. ,   0. ,   0. ,   0. ,   0. ,   0. ,   0. ,   0. ,\n",
              "          0. ,   0. , -75. ,   0. ,   0. , -37.5, 150. , -37.5,   0. ],\n",
              "       [  0. ,   0. ,   0. ,   0. ,   0. ,   0. ,   0. ,   0. ,   0. ,\n",
              "          0. ,   0. ,   0. , -75. ,   0. ,   0. , -37.5, 150. , -37.5],\n",
              "       [  0. ,   0. ,   0. ,   0. ,   0. ,   0. ,   0. ,   0. ,   0. ,\n",
              "          0. ,   0. ,   0. ,   0. , -37.5,   0. ,   0. , -37.5,  75. ]])"
            ]
          },
          "metadata": {},
          "execution_count": 33
        }
      ]
    },
    {
      "cell_type": "code",
      "source": [
        "Q = np.array([q/2, q, q, q, q/2, q/2, q, q])"
      ],
      "metadata": {
        "id": "bFBXVH374mSD"
      },
      "execution_count": 38,
      "outputs": []
    },
    {
      "cell_type": "code",
      "source": [
        "F = np.array([Q[4] + Q[5], Q[6], Q[7] + k[2] * Tg, Q[3], 0, k[8] * Tg, Q[2], 0, k[12] * Tg + k[13] * Tg, k[14] * Tg, Q[1], 0, 0, 0, Q[0], 0, 0, 0])"
      ],
      "metadata": {
        "id": "Xtfv57KH80B0"
      },
      "execution_count": 39,
      "outputs": []
    },
    {
      "cell_type": "code",
      "source": [
        "F.shape"
      ],
      "metadata": {
        "colab": {
          "base_uri": "https://localhost:8080/"
        },
        "id": "9UCqCugQ9SbV",
        "outputId": "fe80d07b-3d3d-4598-8f6b-338ee2fbb6f7"
      },
      "execution_count": 11,
      "outputs": [
        {
          "output_type": "execute_result",
          "data": {
            "text/plain": [
              "(18,)"
            ]
          },
          "metadata": {},
          "execution_count": 11
        }
      ]
    },
    {
      "cell_type": "code",
      "source": [
        "sp.latex(Matrix(F))"
      ],
      "metadata": {
        "colab": {
          "base_uri": "https://localhost:8080/",
          "height": 52
        },
        "id": "OVCdiFy99TSs",
        "outputId": "b5c3be04-033e-4f3f-f9e3-ae4d36cb45a7"
      },
      "execution_count": 12,
      "outputs": [
        {
          "output_type": "execute_result",
          "data": {
            "text/plain": [
              "'\\\\left[\\\\begin{matrix}150.0\\\\\\\\150.0\\\\\\\\275.0\\\\\\\\150.0\\\\\\\\0.0\\\\\\\\125.0\\\\\\\\150.0\\\\\\\\0.0\\\\\\\\250.0\\\\\\\\125.0\\\\\\\\150.0\\\\\\\\0.0\\\\\\\\0.0\\\\\\\\0.0\\\\\\\\75.0\\\\\\\\0.0\\\\\\\\0.0\\\\\\\\0.0\\\\end{matrix}\\\\right]'"
            ],
            "application/vnd.google.colaboratory.intrinsic+json": {
              "type": "string"
            }
          },
          "metadata": {},
          "execution_count": 12
        }
      ]
    },
    {
      "cell_type": "code",
      "source": [
        "np.linalg.det(K)"
      ],
      "metadata": {
        "colab": {
          "base_uri": "https://localhost:8080/"
        },
        "id": "ZFjbC5Zzh1hf",
        "outputId": "92ef6a97-1a47-4e7a-d0f4-cf20d47cec26"
      },
      "execution_count": 14,
      "outputs": [
        {
          "output_type": "execute_result",
          "data": {
            "text/plain": [
              "-1.5653583420358956e+37"
            ]
          },
          "metadata": {},
          "execution_count": 14
        }
      ]
    },
    {
      "cell_type": "code",
      "source": [
        "K[4, 4] = 300\n",
        "K[5, 5] = 160\n",
        "K[8, 8] = 235"
      ],
      "metadata": {
        "id": "sUhccjXWirvS"
      },
      "execution_count": 40,
      "outputs": []
    },
    {
      "cell_type": "code",
      "source": [
        "K = K[3:,3:]"
      ],
      "metadata": {
        "id": "KcrQtdQvjFdE"
      },
      "execution_count": 22,
      "outputs": []
    },
    {
      "cell_type": "code",
      "source": [
        "K.shape"
      ],
      "metadata": {
        "colab": {
          "base_uri": "https://localhost:8080/"
        },
        "id": "FHfbQKEgjKv8",
        "outputId": "301c37fd-4263-4e96-f37f-ad40b75e6b04"
      },
      "execution_count": 23,
      "outputs": [
        {
          "output_type": "execute_result",
          "data": {
            "text/plain": [
              "(15, 15)"
            ]
          },
          "metadata": {},
          "execution_count": 23
        }
      ]
    },
    {
      "cell_type": "code",
      "source": [
        "L = np.linalg.cholesky(K)\n",
        "y = np.linalg.solve(L, F)\n",
        "T = np.linalg.solve(L.T, y)\n",
        "\n",
        "sp.latex(Matrix(np.round(T, 2)))"
      ],
      "metadata": {
        "colab": {
          "base_uri": "https://localhost:8080/",
          "height": 69
        },
        "id": "s_g-uDk39Y0j",
        "outputId": "a258de23-cec0-4cd4-cb55-ca262474c1f6"
      },
      "execution_count": 42,
      "outputs": [
        {
          "output_type": "execute_result",
          "data": {
            "text/plain": [
              "'\\\\left[\\\\begin{matrix}27.9783468214999\\\\\\\\26.4395607365492\\\\\\\\26.4181513829897\\\\\\\\25.5171329064506\\\\\\\\23.6808723708537\\\\\\\\22.5858288804954\\\\\\\\22.728440062595\\\\\\\\20.1809669599196\\\\\\\\15.9196404320832\\\\\\\\15.990965008334\\\\\\\\21.0346934240904\\\\\\\\18.3949149741465\\\\\\\\14.1576855657194\\\\\\\\14.8610849190294\\\\\\\\20.6205036854735\\\\\\\\18.2063139468566\\\\\\\\15.41492215366\\\\\\\\15.1380035363447\\\\end{matrix}\\\\right]'"
            ],
            "application/vnd.google.colaboratory.intrinsic+json": {
              "type": "string"
            }
          },
          "metadata": {},
          "execution_count": 42
        }
      ]
    },
    {
      "cell_type": "code",
      "source": [
        "sp.latex(Matrix(K))"
      ],
      "metadata": {
        "colab": {
          "base_uri": "https://localhost:8080/",
          "height": 137
        },
        "id": "_fBJ0hnOmQdt",
        "outputId": "60bdb43f-9bb4-4c00-a5e4-c5b021e498df"
      },
      "execution_count": 44,
      "outputs": [
        {
          "output_type": "execute_result",
          "data": {
            "text/plain": [
              "'\\\\left[\\\\begin{array}{cccccccccccccccccc}75.0 & -37.5 & 0.0 & -37.5 & 0.0 & 0.0 & 0.0 & 0.0 & 0.0 & 0.0 & 0.0 & 0.0 & 0.0 & 0.0 & 0.0 & 0.0 & 0.0 & 0.0\\\\\\\\-37.5 & 150.0 & -37.5 & 0.0 & -75.0 & 0.0 & 0.0 & 0.0 & 0.0 & 0.0 & 0.0 & 0.0 & 0.0 & 0.0 & 0.0 & 0.0 & 0.0 & 0.0\\\\\\\\0.0 & -37.5 & 80.0 & 0.0 & 0.0 & -37.5 & 0.0 & 0.0 & 0.0 & 0.0 & 0.0 & 0.0 & 0.0 & 0.0 & 0.0 & 0.0 & 0.0 & 0.0\\\\\\\\-37.5 & 0.0 & 0.0 & 150.0 & -75.0 & 0.0 & -37.5 & 0.0 & 0.0 & 0.0 & 0.0 & 0.0 & 0.0 & 0.0 & 0.0 & 0.0 & 0.0 & 0.0\\\\\\\\0.0 & -75.0 & 0.0 & -75.0 & 300.0 & -75.0 & 0.0 & -75.0 & 0.0 & 0.0 & 0.0 & 0.0 & 0.0 & 0.0 & 0.0 & 0.0 & 0.0 & 0.0\\\\\\\\0.0 & 0.0 & -37.5 & 0.0 & -75.0 & 160.0 & 0.0 & 0.0 & -37.5 & 0.0 & 0.0 & 0.0 & 0.0 & 0.0 & 0.0 & 0.0 & 0.0 & 0.0\\\\\\\\0.0 & 0.0 & 0.0 & -37.5 & 0.0 & 0.0 & 150.0 & -75.0 & 0.0 & 0.0 & -37.5 & 0.0 & 0.0 & 0.0 & 0.0 & 0.0 & 0.0 & 0.0\\\\\\\\0.0 & 0.0 & 0.0 & 0.0 & -75.0 & 0.0 & -75.0 & 300.0 & -75.0 & 0.0 & 0.0 & -75.0 & 0.0 & 0.0 & 0.0 & 0.0 & 0.0 & 0.0\\\\\\\\0.0 & 0.0 & 0.0 & 0.0 & 0.0 & -37.5 & 0.0 & -75.0 & 235.0 & -37.5 & 0.0 & 0.0 & -37.5 & 0.0 & 0.0 & 0.0 & 0.0 & 0.0\\\\\\\\0.0 & 0.0 & 0.0 & 0.0 & 0.0 & 0.0 & 0.0 & 0.0 & -37.5 & 80.0 & 0.0 & 0.0 & 0.0 & -37.5 & 0.0 & 0.0 & 0.0 & 0.0\\\\\\\\0.0 & 0.0 & 0.0 & 0.0 & 0.0 & 0.0 & -37.5 & 0.0 & 0.0 & 0.0 & 150.0 & -75.0 & 0.0 & 0.0 & -37.5 & 0.0 & 0.0 & 0.0\\\\\\\\0.0 & 0.0 & 0.0 & 0.0 & 0.0 & 0.0 & 0.0 & -75.0 & 0.0 & 0.0 & -75.0 & 300.0 & -75.0 & 0.0 & 0.0 & -75.0 & 0.0 & 0.0\\\\\\\\0.0 & 0.0 & 0.0 & 0.0 & 0.0 & 0.0 & 0.0 & 0.0 & -37.5 & 0.0 & 0.0 & -75.0 & 300.0 & -75.0 & 0.0 & 0.0 & -75.0 & 0.0\\\\\\\\0.0 & 0.0 & 0.0 & 0.0 & 0.0 & 0.0 & 0.0 & 0.0 & 0.0 & -37.5 & 0.0 & 0.0 & -75.0 & 150.0 & 0.0 & 0.0 & 0.0 & -37.5\\\\\\\\0.0 & 0.0 & 0.0 & 0.0 & 0.0 & 0.0 & 0.0 & 0.0 & 0.0 & 0.0 & -37.5 & 0.0 & 0.0 & 0.0 & 75.0 & -37.5 & 0.0 & 0.0\\\\\\\\0.0 & 0.0 & 0.0 & 0.0 & 0.0 & 0.0 & 0.0 & 0.0 & 0.0 & 0.0 & 0.0 & -75.0 & 0.0 & 0.0 & -37.5 & 150.0 & -37.5 & 0.0\\\\\\\\0.0 & 0.0 & 0.0 & 0.0 & 0.0 & 0.0 & 0.0 & 0.0 & 0.0 & 0.0 & 0.0 & 0.0 & -75.0 & 0.0 & 0.0 & -37.5 & 150.0 & -37.5\\\\\\\\0.0 & 0.0 & 0.0 & 0.0 & 0.0 & 0.0 & 0.0 & 0.0 & 0.0 & 0.0 & 0.0 & 0.0 & 0.0 & -37.5 & 0.0 & 0.0 & -37.5 & 75.0\\\\end{array}\\\\right]'"
            ],
            "application/vnd.google.colaboratory.intrinsic+json": {
              "type": "string"
            }
          },
          "metadata": {},
          "execution_count": 44
        }
      ]
    },
    {
      "cell_type": "code",
      "source": [
        "sp.latex(Matrix(np.round(T, 2)))"
      ],
      "metadata": {
        "colab": {
          "base_uri": "https://localhost:8080/",
          "height": 52
        },
        "id": "0mHl4Zv6oDS6",
        "outputId": "c616bb19-31f1-4819-b8ed-5aedbcad15fd"
      },
      "execution_count": 45,
      "outputs": [
        {
          "output_type": "execute_result",
          "data": {
            "text/plain": [
              "'\\\\left[\\\\begin{matrix}27.98\\\\\\\\26.44\\\\\\\\26.42\\\\\\\\25.52\\\\\\\\23.68\\\\\\\\22.59\\\\\\\\22.73\\\\\\\\20.18\\\\\\\\15.92\\\\\\\\15.99\\\\\\\\21.03\\\\\\\\18.39\\\\\\\\14.16\\\\\\\\14.86\\\\\\\\20.62\\\\\\\\18.21\\\\\\\\15.41\\\\\\\\15.14\\\\end{matrix}\\\\right]'"
            ],
            "application/vnd.google.colaboratory.intrinsic+json": {
              "type": "string"
            }
          },
          "metadata": {},
          "execution_count": 45
        }
      ]
    },
    {
      "cell_type": "code",
      "source": [
        "s = '27.98\\\\26.44\\\\26.42\\\\25.52\\\\23.68\\\\22.59\\\\22.73\\\\20.18\\\\15.92\\\\15.99\\\\21.03\\\\18.39\\\\14.16\\\\14.86\\\\20.62\\\\18.21\\\\15.41\\\\15.14'\n",
        "s"
      ],
      "metadata": {
        "colab": {
          "base_uri": "https://localhost:8080/",
          "height": 35
        },
        "id": "8AuaGy_MontU",
        "outputId": "263d7a2e-9f87-41d0-d886-6071370a0e26"
      },
      "execution_count": 46,
      "outputs": [
        {
          "output_type": "execute_result",
          "data": {
            "text/plain": [
              "'27.98\\\\26.44\\\\26.42\\\\25.52\\\\23.68\\\\22.59\\\\22.73\\\\20.18\\\\15.92\\\\15.99\\\\21.03\\\\18.39\\\\14.16\\\\14.86\\\\20.62\\\\18.21\\\\15.41\\\\15.14'"
            ],
            "application/vnd.google.colaboratory.intrinsic+json": {
              "type": "string"
            }
          },
          "metadata": {},
          "execution_count": 46
        }
      ]
    },
    {
      "cell_type": "code",
      "source": [
        "s = s.replace('\\\\', '&')\n",
        "s"
      ],
      "metadata": {
        "colab": {
          "base_uri": "https://localhost:8080/",
          "height": 35
        },
        "id": "1SZmAgUXooqu",
        "outputId": "1668b600-2766-4bc8-a8e0-2fa90051056d"
      },
      "execution_count": 47,
      "outputs": [
        {
          "output_type": "execute_result",
          "data": {
            "text/plain": [
              "'27.98&26.44&26.42&25.52&23.68&22.59&22.73&20.18&15.92&15.99&21.03&18.39&14.16&14.86&20.62&18.21&15.41&15.14'"
            ],
            "application/vnd.google.colaboratory.intrinsic+json": {
              "type": "string"
            }
          },
          "metadata": {},
          "execution_count": 47
        }
      ]
    },
    {
      "cell_type": "code",
      "source": [
        "s = '&11&12&13&14&15&16&17&18'\n",
        "s = s.replace('&','}$&$T_{')\n",
        "s"
      ],
      "metadata": {
        "colab": {
          "base_uri": "https://localhost:8080/",
          "height": 35
        },
        "id": "Lzpks6lxos8s",
        "outputId": "61aed784-6f5c-477c-de60-2072b8d36a19"
      },
      "execution_count": 50,
      "outputs": [
        {
          "output_type": "execute_result",
          "data": {
            "text/plain": [
              "'}$&$T_{11}$&$T_{12}$&$T_{13}$&$T_{14}$&$T_{15}$&$T_{16}$&$T_{17}$&$T_{18'"
            ],
            "application/vnd.google.colaboratory.intrinsic+json": {
              "type": "string"
            }
          },
          "metadata": {},
          "execution_count": 50
        }
      ]
    },
    {
      "cell_type": "code",
      "source": [],
      "metadata": {
        "id": "z3sOdZW2pPW6"
      },
      "execution_count": null,
      "outputs": []
    }
  ]
}