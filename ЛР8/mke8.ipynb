{
  "nbformat": 4,
  "nbformat_minor": 0,
  "metadata": {
    "colab": {
      "provenance": []
    },
    "kernelspec": {
      "name": "python3",
      "display_name": "Python 3"
    },
    "language_info": {
      "name": "python"
    }
  },
  "cells": [
    {
      "cell_type": "code",
      "execution_count": 17,
      "metadata": {
        "id": "pSAyLxAbrwnr"
      },
      "outputs": [],
      "source": [
        "import sympy as sp\n",
        "import numpy as np\n",
        "from sympy import Symbol\n",
        "from sympy import diff"
      ]
    },
    {
      "cell_type": "code",
      "source": [
        "N = 7"
      ],
      "metadata": {
        "id": "aiKPJQ9QsV2O"
      },
      "execution_count": 3,
      "outputs": []
    },
    {
      "cell_type": "code",
      "source": [
        "coordinates = np.array([[10 + N, 10 + N], [20 + N, 15 + N], [25 + N, 30 + N], [8 + N, 25 + N]])"
      ],
      "metadata": {
        "id": "Bv9-y2zzsEXM"
      },
      "execution_count": 31,
      "outputs": []
    },
    {
      "cell_type": "code",
      "source": [
        "xi = Symbol('x')\n",
        "eta = Symbol('y')"
      ],
      "metadata": {
        "id": "fOohblhZsUGQ"
      },
      "execution_count": 32,
      "outputs": []
    },
    {
      "cell_type": "code",
      "source": [
        "R1 = (1 - xi) * (1 - eta) / 4\n",
        "R2 = (1 + xi) * (1 - eta) / 4\n",
        "R3 = (1 + xi) * (1 + eta) / 4\n",
        "R4 = (1 - xi) * (1 + eta) / 4"
      ],
      "metadata": {
        "id": "hqyzzev_tJxK"
      },
      "execution_count": 33,
      "outputs": []
    },
    {
      "cell_type": "code",
      "source": [
        "R = np.array([R1, R2, R3, R4])"
      ],
      "metadata": {
        "id": "Z565CyZktmkd"
      },
      "execution_count": 34,
      "outputs": []
    },
    {
      "cell_type": "code",
      "source": [
        "X = 0\n",
        "Y = 0\n",
        "for i in range(4):\n",
        "    X += coordinates[i, 0] * R[i]\n",
        "    Y += coordinates[i, 1] * R[i]"
      ],
      "metadata": {
        "id": "qc-BTq0Vtcgx"
      },
      "execution_count": 35,
      "outputs": []
    },
    {
      "cell_type": "code",
      "source": [
        "X, Y"
      ],
      "metadata": {
        "colab": {
          "base_uri": "https://localhost:8080/"
        },
        "id": "akH8EkZ4tzo6",
        "outputId": "53e7e4db-e0ca-4a8e-ccab-98adf070f195"
      },
      "execution_count": 36,
      "outputs": [
        {
          "output_type": "execute_result",
          "data": {
            "text/plain": [
              "(17*(1 - x)*(1 - y)/4 + 15*(1 - x)*(y + 1)/4 + 27*(1 - y)*(x + 1)/4 + 8*(x + 1)*(y + 1),\n",
              " 17*(1 - x)*(1 - y)/4 + 8*(1 - x)*(y + 1) + 11*(1 - y)*(x + 1)/2 + 37*(x + 1)*(y + 1)/4)"
            ]
          },
          "metadata": {},
          "execution_count": 36
        }
      ]
    },
    {
      "cell_type": "code",
      "source": [
        "str_x = sp.latex(X)\n",
        "str_x = str_x.replace('x', '\\\\xi')\n",
        "str_x = str_x.replace('y', '\\\\eta')\n",
        "str_x"
      ],
      "metadata": {
        "colab": {
          "base_uri": "https://localhost:8080/",
          "height": 52
        },
        "id": "uIZw4lDWt0aH",
        "outputId": "c3866a22-7276-409a-da58-bb639e1d66a3"
      },
      "execution_count": 37,
      "outputs": [
        {
          "output_type": "execute_result",
          "data": {
            "text/plain": [
              "'\\\\frac{17 \\\\left(1 - \\\\xi\\\\right) \\\\left(1 - \\\\eta\\\\right)}{4} + \\\\frac{15 \\\\left(1 - \\\\xi\\\\right) \\\\left(\\\\eta + 1\\\\right)}{4} + \\\\frac{27 \\\\left(1 - \\\\eta\\\\right) \\\\left(\\\\xi + 1\\\\right)}{4} + 8 \\\\left(\\\\xi + 1\\\\right) \\\\left(\\\\eta + 1\\\\right)'"
            ],
            "application/vnd.google.colaboratory.intrinsic+json": {
              "type": "string"
            }
          },
          "metadata": {},
          "execution_count": 37
        }
      ]
    },
    {
      "cell_type": "code",
      "source": [
        "str_y = sp.latex(Y)\n",
        "str_y = str_y.replace('x', '\\\\xi')\n",
        "str_y = str_y.replace('y', '\\\\eta')\n",
        "str_y"
      ],
      "metadata": {
        "colab": {
          "base_uri": "https://localhost:8080/",
          "height": 52
        },
        "id": "rFsS_A81t5gy",
        "outputId": "50eb5100-ab55-49a5-deef-8a9f8f8a04a4"
      },
      "execution_count": 48,
      "outputs": [
        {
          "output_type": "execute_result",
          "data": {
            "text/plain": [
              "'\\\\frac{17 \\\\left(1 - \\\\xi\\\\right) \\\\left(1 - \\\\eta\\\\right)}{4} + 8 \\\\left(1 - \\\\xi\\\\right) \\\\left(\\\\eta + 1\\\\right) + \\\\frac{11 \\\\left(1 - \\\\eta\\\\right) \\\\left(\\\\xi + 1\\\\right)}{2} + \\\\frac{37 \\\\left(\\\\xi + 1\\\\right) \\\\left(\\\\eta + 1\\\\right)}{4}'"
            ],
            "application/vnd.google.colaboratory.intrinsic+json": {
              "type": "string"
            }
          },
          "metadata": {},
          "execution_count": 48
        }
      ]
    },
    {
      "cell_type": "code",
      "source": [
        "str_x = sp.latex(sp.simplify(X))\n",
        "str_x = str_x.replace('x', '\\\\xi')\n",
        "str_x = str_x.replace('y', '\\\\eta')\n",
        "str_x"
      ],
      "metadata": {
        "colab": {
          "base_uri": "https://localhost:8080/",
          "height": 35
        },
        "id": "JtEjyvJpuJUJ",
        "outputId": "95230062-2638-4e78-a1e6-2192f31f4ac7"
      },
      "execution_count": 39,
      "outputs": [
        {
          "output_type": "execute_result",
          "data": {
            "text/plain": [
              "'\\\\frac{7 \\\\xi \\\\eta}{4} + \\\\frac{27 \\\\xi}{4} + \\\\frac{3 \\\\eta}{4} + \\\\frac{91}{4}'"
            ],
            "application/vnd.google.colaboratory.intrinsic+json": {
              "type": "string"
            }
          },
          "metadata": {},
          "execution_count": 39
        }
      ]
    },
    {
      "cell_type": "code",
      "source": [
        "str_y = sp.latex(sp.simplify(Y))\n",
        "str_y = str_y.replace('x', '\\\\xi')\n",
        "str_y = str_y.replace('y', '\\\\eta')\n",
        "str_y"
      ],
      "metadata": {
        "colab": {
          "base_uri": "https://localhost:8080/",
          "height": 35
        },
        "id": "bt6x5qx1uZ9t",
        "outputId": "5d5c9301-634f-445b-c421-149f3f8f06a0"
      },
      "execution_count": 47,
      "outputs": [
        {
          "output_type": "execute_result",
          "data": {
            "text/plain": [
              "'\\\\frac{5 \\\\xi}{2} + \\\\frac{15 \\\\eta}{2} + 27'"
            ],
            "application/vnd.google.colaboratory.intrinsic+json": {
              "type": "string"
            }
          },
          "metadata": {},
          "execution_count": 47
        }
      ]
    },
    {
      "cell_type": "code",
      "source": [
        "dx_dxi = diff(sp.simplify(X), xi)\n",
        "dx_deta = diff(sp.simplify(X), eta)\n",
        "dy_dxi = diff(sp.simplify(Y), xi)\n",
        "dy_deta = diff(sp.simplify(Y), eta)"
      ],
      "metadata": {
        "id": "ZE3tfUodudBk"
      },
      "execution_count": 41,
      "outputs": []
    },
    {
      "cell_type": "code",
      "source": [
        "dx_dxi"
      ],
      "metadata": {
        "colab": {
          "base_uri": "https://localhost:8080/",
          "height": 51
        },
        "id": "xwxxz62iwiuk",
        "outputId": "7411ca38-2e02-46d5-b892-c73a7a3f6185"
      },
      "execution_count": 45,
      "outputs": [
        {
          "output_type": "execute_result",
          "data": {
            "text/plain": [
              "7*y/4 + 27/4"
            ],
            "text/latex": "$\\displaystyle \\frac{7 y}{4} + \\frac{27}{4}$"
          },
          "metadata": {},
          "execution_count": 45
        }
      ]
    },
    {
      "cell_type": "code",
      "source": [
        "str_dx_dxi = sp.latex(dx_dxi)\n",
        "str_dx_dxi = str_dx_dxi.replace('x', '\\\\xi')\n",
        "str_dx_dxi = str_dx_dxi.replace('y', '\\\\eta')\n",
        "str_dx_dxi"
      ],
      "metadata": {
        "colab": {
          "base_uri": "https://localhost:8080/",
          "height": 35
        },
        "id": "7k2UUZwzwMAc",
        "outputId": "c325cd10-ab67-41b9-c501-2ef5c79a46f6"
      },
      "execution_count": 49,
      "outputs": [
        {
          "output_type": "execute_result",
          "data": {
            "text/plain": [
              "'\\\\frac{7 \\\\eta}{4} + \\\\frac{27}{4}'"
            ],
            "application/vnd.google.colaboratory.intrinsic+json": {
              "type": "string"
            }
          },
          "metadata": {},
          "execution_count": 49
        }
      ]
    },
    {
      "cell_type": "code",
      "source": [
        "str_dy_dxi = sp.latex(dy_dxi)\n",
        "str_dy_dxi = str_dy_dxi.replace('x', '\\\\xi')\n",
        "str_dy_dxi = str_dy_dxi.replace('y', '\\\\eta')\n",
        "str_dy_dxi"
      ],
      "metadata": {
        "colab": {
          "base_uri": "https://localhost:8080/",
          "height": 35
        },
        "id": "aDLnbmWjw4zj",
        "outputId": "70a0fa6a-0f8e-498b-d696-e2d44fd63206"
      },
      "execution_count": 50,
      "outputs": [
        {
          "output_type": "execute_result",
          "data": {
            "text/plain": [
              "'\\\\frac{5}{2}'"
            ],
            "application/vnd.google.colaboratory.intrinsic+json": {
              "type": "string"
            }
          },
          "metadata": {},
          "execution_count": 50
        }
      ]
    },
    {
      "cell_type": "code",
      "source": [
        "str_dx_deta = sp.latex(dx_deta)\n",
        "str_dx_deta = str_dx_deta.replace('x', '\\\\xi')\n",
        "str_dx_deta = str_dx_deta.replace('y', '\\\\eta')\n",
        "str_dx_deta"
      ],
      "metadata": {
        "colab": {
          "base_uri": "https://localhost:8080/",
          "height": 35
        },
        "id": "s6YkIb0VwNmg",
        "outputId": "719e9ac3-6f9b-4261-e2eb-738bc264ff71"
      },
      "execution_count": 51,
      "outputs": [
        {
          "output_type": "execute_result",
          "data": {
            "text/plain": [
              "'\\\\frac{7 \\\\xi}{4} + \\\\frac{3}{4}'"
            ],
            "application/vnd.google.colaboratory.intrinsic+json": {
              "type": "string"
            }
          },
          "metadata": {},
          "execution_count": 51
        }
      ]
    },
    {
      "cell_type": "code",
      "source": [
        "str_dy_deta = sp.latex(dy_deta)\n",
        "str_dy_deta = str_dy_deta.replace('x', '\\\\xi')\n",
        "str_dy_deta = str_dy_deta.replace('y', '\\\\eta')\n",
        "str_dy_deta"
      ],
      "metadata": {
        "colab": {
          "base_uri": "https://localhost:8080/",
          "height": 35
        },
        "id": "OUPPd98zwRJT",
        "outputId": "aa9543e8-1d23-4ca3-e897-084f9d4a94cf"
      },
      "execution_count": 52,
      "outputs": [
        {
          "output_type": "execute_result",
          "data": {
            "text/plain": [
              "'\\\\frac{15}{2}'"
            ],
            "application/vnd.google.colaboratory.intrinsic+json": {
              "type": "string"
            }
          },
          "metadata": {},
          "execution_count": 52
        }
      ]
    },
    {
      "cell_type": "code",
      "source": [
        "J = sp.Matrix([[dx_dxi, dy_dxi], [dx_deta, dy_deta]])\n",
        "str_J = sp.latex(J)\n",
        "str_J = str_J.replace(' x', '\\\\xi')\n",
        "str_J = str_J.replace(' y', '\\\\eta')\n",
        "str_J"
      ],
      "metadata": {
        "colab": {
          "base_uri": "https://localhost:8080/",
          "height": 35
        },
        "id": "nALMwh_hxKQf",
        "outputId": "1f13e3cb-2d50-4106-949a-a615da8ea8c4"
      },
      "execution_count": 60,
      "outputs": [
        {
          "output_type": "execute_result",
          "data": {
            "text/plain": [
              "'\\\\left[\\\\begin{matrix}\\\\frac{7\\\\eta}{4} + \\\\frac{27}{4} & \\\\frac{5}{2}\\\\\\\\\\\\frac{7\\\\xi}{4} + \\\\frac{3}{4} & \\\\frac{15}{2}\\\\end{matrix}\\\\right]'"
            ],
            "application/vnd.google.colaboratory.intrinsic+json": {
              "type": "string"
            }
          },
          "metadata": {},
          "execution_count": 60
        }
      ]
    },
    {
      "cell_type": "code",
      "source": [
        "J.det()"
      ],
      "metadata": {
        "colab": {
          "base_uri": "https://localhost:8080/",
          "height": 51
        },
        "id": "mRY9fxjGxZc5",
        "outputId": "a539574e-6d6a-487c-f745-c594ac886dfe"
      },
      "execution_count": 55,
      "outputs": [
        {
          "output_type": "execute_result",
          "data": {
            "text/plain": [
              "-35*x/8 + 105*y/8 + 195/4"
            ],
            "text/latex": "$\\displaystyle - \\frac{35 x}{8} + \\frac{105 y}{8} + \\frac{195}{4}$"
          },
          "metadata": {},
          "execution_count": 55
        }
      ]
    },
    {
      "cell_type": "code",
      "source": [
        "str_J_det = sp.latex(J.det())\n",
        "str_J_det = str_J_det.replace('x', '\\\\xi')\n",
        "str_J_det = str_J_det.replace('y', '\\\\eta')\n",
        "str_J_det"
      ],
      "metadata": {
        "colab": {
          "base_uri": "https://localhost:8080/",
          "height": 35
        },
        "id": "_HSdfA56xsZ8",
        "outputId": "08d6dd95-aca6-4168-d66e-b39126f63f82"
      },
      "execution_count": 58,
      "outputs": [
        {
          "output_type": "execute_result",
          "data": {
            "text/plain": [
              "'- \\\\frac{35 \\\\xi}{8} + \\\\frac{105 \\\\eta}{8} + \\\\frac{195}{4}'"
            ],
            "application/vnd.google.colaboratory.intrinsic+json": {
              "type": "string"
            }
          },
          "metadata": {},
          "execution_count": 58
        }
      ]
    },
    {
      "cell_type": "code",
      "source": [
        "J_inv = J.inv()\n",
        "J_inv"
      ],
      "metadata": {
        "colab": {
          "base_uri": "https://localhost:8080/",
          "height": 68
        },
        "id": "BtiEuelPxv7u",
        "outputId": "7e9a3b56-45a9-4601-d379-86aa593226dc"
      },
      "execution_count": 61,
      "outputs": [
        {
          "output_type": "execute_result",
          "data": {
            "text/plain": [
              "Matrix([\n",
              "[          -12/(7*x - 21*y - 78),               4/(7*x - 21*y - 78)],\n",
              "[(14*x + 6)/(35*x - 105*y - 390), (-14*y - 54)/(35*x - 105*y - 390)]])"
            ],
            "text/latex": "$\\displaystyle \\left[\\begin{matrix}- \\frac{12}{7 x - 21 y - 78} & \\frac{4}{7 x - 21 y - 78}\\\\\\frac{14 x + 6}{35 x - 105 y - 390} & \\frac{- 14 y - 54}{35 x - 105 y - 390}\\end{matrix}\\right]$"
          },
          "metadata": {},
          "execution_count": 61
        }
      ]
    },
    {
      "cell_type": "code",
      "source": [
        "str_J_inv = sp.latex(J_inv)\n",
        "str_J_inv = str_J_inv.replace(' x', '\\\\xi')\n",
        "str_J_inv = str_J_inv.replace(' y', '\\\\eta')\n",
        "str_J_inv"
      ],
      "metadata": {
        "colab": {
          "base_uri": "https://localhost:8080/",
          "height": 52
        },
        "id": "30GecpxAyYvn",
        "outputId": "521dbcdb-6c04-43d7-a2d2-44985935cfd9"
      },
      "execution_count": 62,
      "outputs": [
        {
          "output_type": "execute_result",
          "data": {
            "text/plain": [
              "'\\\\left[\\\\begin{matrix}- \\\\frac{12}{7\\\\xi - 21\\\\eta - 78} & \\\\frac{4}{7\\\\xi - 21\\\\eta - 78}\\\\\\\\\\\\frac{14\\\\xi + 6}{35\\\\xi - 105\\\\eta - 390} & \\\\frac{- 14\\\\eta - 54}{35\\\\xi - 105\\\\eta - 390}\\\\end{matrix}\\\\right]'"
            ],
            "application/vnd.google.colaboratory.intrinsic+json": {
              "type": "string"
            }
          },
          "metadata": {},
          "execution_count": 62
        }
      ]
    },
    {
      "cell_type": "markdown",
      "source": [
        "Сирендипово семейство"
      ],
      "metadata": {
        "id": "tbaZl8Ley752"
      }
    },
    {
      "cell_type": "code",
      "source": [
        "dN_1 = sp.Matrix([\n",
        "    - (eta - 1) * (eta + 2 * xi) / 4,\n",
        "    - (2 * eta + xi) * (xi - 1) / 4\n",
        "])\n",
        "dN_2 = sp.Matrix([\n",
        "    xi * (eta - 1),\n",
        "    -1/2 + (xi ** 2) / 2\n",
        "])\n",
        "dN_3 = sp.Matrix([\n",
        "    (eta - 1) * (eta - 2 * xi) / 4,\n",
        "    (2 * eta - xi) * (xi + 1) / 4\n",
        "])\n",
        "dN_4 = sp.Matrix([\n",
        "    1/2 - (eta ** 2) / 2,\n",
        "    - eta * (xi + 1)\n",
        "])\n",
        "dN_5 = sp.Matrix([\n",
        "    (eta + 1) * (eta + 2 * xi) / 4,\n",
        "    (2 * eta + xi) * (xi + 1) / 4\n",
        "])\n",
        "dN_6 = sp.Matrix([\n",
        "    - xi * (eta + 1),\n",
        "    1/2 - (xi ** 2) / 2\n",
        "])\n",
        "dN_7 = sp.Matrix([\n",
        "    (eta + 1) * (- eta + 2 * xi) / 4,\n",
        "    (-2 * eta + xi) * (xi - 1) / 4\n",
        "])\n",
        "dN_8 = sp.Matrix([\n",
        "    -1/2 + (eta ** 2) / 2,\n",
        "    eta * (xi - 1)\n",
        "])"
      ],
      "metadata": {
        "id": "d9xyw6wryfUF"
      },
      "execution_count": 64,
      "outputs": []
    },
    {
      "cell_type": "markdown",
      "source": [
        "Итоговые производные"
      ],
      "metadata": {
        "id": "Hqz1r7Sv0Yt8"
      }
    },
    {
      "cell_type": "code",
      "source": [
        "sp.latex(sp.simplify(J_inv * dN_1)).replace(' x', '\\\\xi').replace(' y', '\\\\eta').replace('(x', '(\\\\xi').replace('(y', '(\\\\eta')"
      ],
      "metadata": {
        "colab": {
          "base_uri": "https://localhost:8080/",
          "height": 69
        },
        "id": "EInaX4Qm0VOS",
        "outputId": "7fc7c289-35e3-44a3-e03e-7ef9695f2a9d"
      },
      "execution_count": 75,
      "outputs": [
        {
          "output_type": "execute_result",
          "data": {
            "text/plain": [
              "'\\\\left[\\\\begin{matrix}\\\\frac{\\\\left(\\\\xi - 1\\\\right) \\\\left(\\\\xi + 2\\\\eta\\\\right) - 3 \\\\left(2\\\\xi +\\\\eta\\\\right) \\\\left(\\\\eta - 1\\\\right)}{- 7\\\\xi + 21\\\\eta + 78}\\\\\\\\\\\\frac{- \\\\left(\\\\xi - 1\\\\right) \\\\left(\\\\xi + 2\\\\eta\\\\right) \\\\left(7\\\\eta + 27\\\\right) + \\\\left(2\\\\xi +\\\\eta\\\\right) \\\\left(7\\\\xi + 3\\\\right) \\\\left(\\\\eta - 1\\\\right)}{10 \\\\left(- 7\\\\xi + 21\\\\eta + 78\\\\right)}\\\\end{matrix}\\\\right]'"
            ],
            "application/vnd.google.colaboratory.intrinsic+json": {
              "type": "string"
            }
          },
          "metadata": {},
          "execution_count": 75
        }
      ]
    },
    {
      "cell_type": "code",
      "source": [
        "sp.latex(sp.simplify(J_inv * dN_2)).replace(' x', '\\\\xi').replace(' y', '\\\\eta').replace('(x', '(\\\\xi').replace('(y', '(\\\\eta')"
      ],
      "metadata": {
        "colab": {
          "base_uri": "https://localhost:8080/",
          "height": 52
        },
        "id": "-L9nqIn21R8K",
        "outputId": "9c86f0ef-dd54-40ef-d2e0-ff78ae2f30b2"
      },
      "execution_count": 76,
      "outputs": [
        {
          "output_type": "execute_result",
          "data": {
            "text/plain": [
              "'\\\\left[\\\\begin{matrix}\\\\frac{- 2\\\\xi^{2} + 12\\\\xi \\\\left(\\\\eta - 1\\\\right) + 2.0}{- 7\\\\xi + 21\\\\eta + 78}\\\\\\\\\\\\frac{- 2\\\\xi \\\\left(7\\\\xi + 3\\\\right) \\\\left(\\\\eta - 1\\\\right) + \\\\left(\\\\xi^{2} - 1.0\\\\right) \\\\left(7\\\\eta + 27\\\\right)}{5 \\\\left(- 7\\\\xi + 21\\\\eta + 78\\\\right)}\\\\end{matrix}\\\\right]'"
            ],
            "application/vnd.google.colaboratory.intrinsic+json": {
              "type": "string"
            }
          },
          "metadata": {},
          "execution_count": 76
        }
      ]
    },
    {
      "cell_type": "code",
      "source": [
        "sp.latex(sp.simplify(J_inv * dN_3)).replace(' x', '\\\\xi').replace(' y', '\\\\eta').replace('(x', '(\\\\xi').replace('(y', '(\\\\eta')"
      ],
      "metadata": {
        "colab": {
          "base_uri": "https://localhost:8080/",
          "height": 69
        },
        "id": "nBtRZFSU1mc6",
        "outputId": "f9bde5a2-4004-4b39-d749-3188cefccad4"
      },
      "execution_count": 77,
      "outputs": [
        {
          "output_type": "execute_result",
          "data": {
            "text/plain": [
              "'\\\\left[\\\\begin{matrix}\\\\frac{\\\\left(\\\\xi + 1\\\\right) \\\\left(\\\\xi - 2\\\\eta\\\\right) - 3 \\\\left(2\\\\xi -\\\\eta\\\\right) \\\\left(\\\\eta - 1\\\\right)}{- 7\\\\xi + 21\\\\eta + 78}\\\\\\\\\\\\frac{- \\\\left(\\\\xi + 1\\\\right) \\\\left(\\\\xi - 2\\\\eta\\\\right) \\\\left(7\\\\eta + 27\\\\right) + \\\\left(2\\\\xi -\\\\eta\\\\right) \\\\left(7\\\\xi + 3\\\\right) \\\\left(\\\\eta - 1\\\\right)}{10 \\\\left(- 7\\\\xi + 21\\\\eta + 78\\\\right)}\\\\end{matrix}\\\\right]'"
            ],
            "application/vnd.google.colaboratory.intrinsic+json": {
              "type": "string"
            }
          },
          "metadata": {},
          "execution_count": 77
        }
      ]
    },
    {
      "cell_type": "code",
      "source": [
        "sp.latex(sp.simplify(J_inv * dN_4)).replace(' x', '\\\\xi').replace(' y', '\\\\eta').replace('(x', '(\\\\xi').replace('(y', '(\\\\eta')"
      ],
      "metadata": {
        "colab": {
          "base_uri": "https://localhost:8080/",
          "height": 52
        },
        "id": "VVLhm-Ro1mW7",
        "outputId": "6ef1607d-3ef1-4acf-e815-ec129a405fa6"
      },
      "execution_count": 78,
      "outputs": [
        {
          "output_type": "execute_result",
          "data": {
            "text/plain": [
              "'\\\\left[\\\\begin{matrix}\\\\frac{- 6\\\\eta^{2} + 4\\\\eta \\\\left(\\\\xi + 1\\\\right) + 6.0}{- 7\\\\xi + 21\\\\eta + 78}\\\\\\\\\\\\frac{- 2\\\\eta \\\\left(\\\\xi + 1\\\\right) \\\\left(7\\\\eta + 27\\\\right) + \\\\left(7\\\\xi + 3\\\\right) \\\\left(\\\\eta^{2} - 1.0\\\\right)}{5 \\\\left(- 7\\\\xi + 21\\\\eta + 78\\\\right)}\\\\end{matrix}\\\\right]'"
            ],
            "application/vnd.google.colaboratory.intrinsic+json": {
              "type": "string"
            }
          },
          "metadata": {},
          "execution_count": 78
        }
      ]
    },
    {
      "cell_type": "code",
      "source": [
        "sp.latex(sp.simplify(J_inv * dN_5)).replace(' x', '\\\\xi').replace(' y', '\\\\eta').replace('(x', '(\\\\xi').replace('(y', '(\\\\eta')"
      ],
      "metadata": {
        "colab": {
          "base_uri": "https://localhost:8080/",
          "height": 69
        },
        "id": "TQr8eOQ61mQ_",
        "outputId": "2363d59a-06f0-4b7f-d4c0-e9fff09bc773"
      },
      "execution_count": 79,
      "outputs": [
        {
          "output_type": "execute_result",
          "data": {
            "text/plain": [
              "'\\\\left[\\\\begin{matrix}\\\\frac{- \\\\left(\\\\xi + 1\\\\right) \\\\left(\\\\xi + 2\\\\eta\\\\right) + 3 \\\\left(2\\\\xi +\\\\eta\\\\right) \\\\left(\\\\eta + 1\\\\right)}{- 7\\\\xi + 21\\\\eta + 78}\\\\\\\\\\\\frac{\\\\left(\\\\xi + 1\\\\right) \\\\left(\\\\xi + 2\\\\eta\\\\right) \\\\left(7\\\\eta + 27\\\\right) - \\\\left(2\\\\xi +\\\\eta\\\\right) \\\\left(7\\\\xi + 3\\\\right) \\\\left(\\\\eta + 1\\\\right)}{10 \\\\left(- 7\\\\xi + 21\\\\eta + 78\\\\right)}\\\\end{matrix}\\\\right]'"
            ],
            "application/vnd.google.colaboratory.intrinsic+json": {
              "type": "string"
            }
          },
          "metadata": {},
          "execution_count": 79
        }
      ]
    },
    {
      "cell_type": "code",
      "source": [
        "sp.latex(sp.simplify(J_inv * dN_6)).replace(' x', '\\\\xi').replace(' y', '\\\\eta').replace('(x', '(\\\\xi').replace('(y', '(\\\\eta')"
      ],
      "metadata": {
        "colab": {
          "base_uri": "https://localhost:8080/",
          "height": 52
        },
        "id": "NJomRNNs1mKc",
        "outputId": "1c76f186-93f5-4577-acce-39a28606bce2"
      },
      "execution_count": 80,
      "outputs": [
        {
          "output_type": "execute_result",
          "data": {
            "text/plain": [
              "'\\\\left[\\\\begin{matrix}\\\\frac{2\\\\xi^{2} - 12\\\\xi \\\\left(\\\\eta + 1\\\\right) - 2.0}{- 7\\\\xi + 21\\\\eta + 78}\\\\\\\\\\\\frac{2\\\\xi \\\\left(7\\\\xi + 3\\\\right) \\\\left(\\\\eta + 1\\\\right) - \\\\left(\\\\xi^{2} - 1.0\\\\right) \\\\left(7\\\\eta + 27\\\\right)}{5 \\\\left(- 7\\\\xi + 21\\\\eta + 78\\\\right)}\\\\end{matrix}\\\\right]'"
            ],
            "application/vnd.google.colaboratory.intrinsic+json": {
              "type": "string"
            }
          },
          "metadata": {},
          "execution_count": 80
        }
      ]
    },
    {
      "cell_type": "code",
      "source": [
        "sp.latex(sp.simplify(J_inv * dN_7)).replace(' x', '\\\\xi').replace(' y', '\\\\eta').replace('(x', '(\\\\xi').replace('(y', '(\\\\eta')"
      ],
      "metadata": {
        "colab": {
          "base_uri": "https://localhost:8080/",
          "height": 69
        },
        "id": "iyqRfZQW1mD-",
        "outputId": "3feb38b5-d422-4d1f-dde3-4172be08ca46"
      },
      "execution_count": 81,
      "outputs": [
        {
          "output_type": "execute_result",
          "data": {
            "text/plain": [
              "'\\\\left[\\\\begin{matrix}\\\\frac{- \\\\left(\\\\xi - 1\\\\right) \\\\left(\\\\xi - 2\\\\eta\\\\right) + 3 \\\\left(2\\\\xi -\\\\eta\\\\right) \\\\left(\\\\eta + 1\\\\right)}{- 7\\\\xi + 21\\\\eta + 78}\\\\\\\\\\\\frac{\\\\left(\\\\xi - 1\\\\right) \\\\left(\\\\xi - 2\\\\eta\\\\right) \\\\left(7\\\\eta + 27\\\\right) - \\\\left(2\\\\xi -\\\\eta\\\\right) \\\\left(7\\\\xi + 3\\\\right) \\\\left(\\\\eta + 1\\\\right)}{10 \\\\left(- 7\\\\xi + 21\\\\eta + 78\\\\right)}\\\\end{matrix}\\\\right]'"
            ],
            "application/vnd.google.colaboratory.intrinsic+json": {
              "type": "string"
            }
          },
          "metadata": {},
          "execution_count": 81
        }
      ]
    },
    {
      "cell_type": "code",
      "source": [
        "sp.latex(sp.simplify(J_inv * dN_8)).replace(' x', '\\\\xi').replace(' y', '\\\\eta').replace('(x', '(\\\\xi').replace('(y', '(\\\\eta')"
      ],
      "metadata": {
        "colab": {
          "base_uri": "https://localhost:8080/",
          "height": 52
        },
        "id": "QKiHSWud1q3M",
        "outputId": "ac7a2252-8acb-4a44-878e-fe64d2371ca2"
      },
      "execution_count": 82,
      "outputs": [
        {
          "output_type": "execute_result",
          "data": {
            "text/plain": [
              "'\\\\left[\\\\begin{matrix}\\\\frac{6\\\\eta^{2} - 4\\\\eta \\\\left(\\\\xi - 1\\\\right) - 6.0}{- 7\\\\xi + 21\\\\eta + 78}\\\\\\\\\\\\frac{2\\\\eta \\\\left(\\\\xi - 1\\\\right) \\\\left(7\\\\eta + 27\\\\right) - \\\\left(7\\\\xi + 3\\\\right) \\\\left(\\\\eta^{2} - 1.0\\\\right)}{5 \\\\left(- 7\\\\xi + 21\\\\eta + 78\\\\right)}\\\\end{matrix}\\\\right]'"
            ],
            "application/vnd.google.colaboratory.intrinsic+json": {
              "type": "string"
            }
          },
          "metadata": {},
          "execution_count": 82
        }
      ]
    },
    {
      "cell_type": "markdown",
      "source": [
        "Лагранжево семейство"
      ],
      "metadata": {
        "id": "Fsbli6mg1_fg"
      }
    },
    {
      "cell_type": "code",
      "source": [
        "dN_1_l = sp.Matrix([\n",
        "    eta * (eta - 1) * (2 * xi - 1) / 4,\n",
        "    (2 * eta - 1) * (xi - 1) * xi / 4\n",
        "])\n",
        "dN_2_l = sp.Matrix([\n",
        "    xi * eta * (1 - eta),\n",
        "    (eta - 1/2) * (1 - xi ** 2)\n",
        "])\n",
        "dN_3_l = sp.Matrix([\n",
        "    eta * (eta - 1) * (2 * xi + 1) / 4,\n",
        "    (2 * eta - 1) * (xi + 1) * xi / 4\n",
        "])\n",
        "dN_4_l = sp.Matrix([\n",
        "    (xi + 1/2) * (1 - eta ** 2),\n",
        "    - eta * (xi + 1) * xi\n",
        "])\n",
        "dN_5_l = sp.Matrix([\n",
        "    eta * (eta + 1) * (2 * xi + 1) / 4,\n",
        "    (2 * eta + 1) * (xi + 1) * xi / 4\n",
        "])\n",
        "dN_6_l = sp.Matrix([\n",
        "    - xi * eta * (1 + eta),\n",
        "    (eta + 1/2) * (1 - xi ** 2)\n",
        "])\n",
        "dN_7_l = sp.Matrix([\n",
        "    eta * (eta + 1) * (2 * xi - 1) / 4,\n",
        "    (2 * eta + 1) * (xi - 1) * xi / 4\n",
        "])\n",
        "dN_8_l = sp.Matrix([\n",
        "    (xi - 1/2) * (1 - eta ** 2),\n",
        "    eta * (- xi + 1) * xi\n",
        "])\n",
        "dN_0_l = sp.Matrix([\n",
        "    2 * xi * (eta ** 2 - 1),\n",
        "    2 * eta * (xi ** 2 - 1)\n",
        "])"
      ],
      "metadata": {
        "id": "e3MKc6vX1sOm"
      },
      "execution_count": 83,
      "outputs": []
    },
    {
      "cell_type": "markdown",
      "source": [
        "Итоговые производные"
      ],
      "metadata": {
        "id": "3nAbi3uM39_R"
      }
    },
    {
      "cell_type": "code",
      "source": [
        "sp.latex(sp.simplify(J_inv * dN_1_l)).replace(' x', '\\\\xi').replace(' y', '\\\\eta').replace('(x', '(\\\\xi').replace('(y', '(\\\\eta')"
      ],
      "metadata": {
        "colab": {
          "base_uri": "https://localhost:8080/",
          "height": 69
        },
        "id": "JSPcNdV-3ONd",
        "outputId": "42d074be-5ef4-494b-8a12-44bd156bb560"
      },
      "execution_count": 84,
      "outputs": [
        {
          "output_type": "execute_result",
          "data": {
            "text/plain": [
              "'\\\\left[\\\\begin{matrix}\\\\frac{-\\\\xi \\\\left(\\\\xi - 1\\\\right) \\\\left(2\\\\eta - 1\\\\right) + 3\\\\eta \\\\left(2\\\\xi - 1\\\\right) \\\\left(\\\\eta - 1\\\\right)}{- 7\\\\xi + 21\\\\eta + 78}\\\\\\\\\\\\frac{x \\\\left(\\\\xi - 1\\\\right) \\\\left(2\\\\eta - 1\\\\right) \\\\left(7\\\\eta + 27\\\\right) -\\\\eta \\\\left(2\\\\xi - 1\\\\right) \\\\left(7\\\\xi + 3\\\\right) \\\\left(\\\\eta - 1\\\\right)}{10 \\\\left(- 7\\\\xi + 21\\\\eta + 78\\\\right)}\\\\end{matrix}\\\\right]'"
            ],
            "application/vnd.google.colaboratory.intrinsic+json": {
              "type": "string"
            }
          },
          "metadata": {},
          "execution_count": 84
        }
      ]
    },
    {
      "cell_type": "code",
      "source": [
        "sp.latex(sp.simplify(J_inv * dN_2_l)).replace(' x', '\\\\xi').replace(' y', '\\\\eta').replace('(x', '(\\\\xi').replace('(y', '(\\\\eta')"
      ],
      "metadata": {
        "colab": {
          "base_uri": "https://localhost:8080/",
          "height": 69
        },
        "id": "RO7HnLS33ZMT",
        "outputId": "a24967e8-eb42-4752-99cd-daed665c8709"
      },
      "execution_count": 85,
      "outputs": [
        {
          "output_type": "execute_result",
          "data": {
            "text/plain": [
              "'\\\\left[\\\\begin{matrix}\\\\frac{4 \\\\left(- 3\\\\xi\\\\eta \\\\left(\\\\eta - 1\\\\right) + \\\\left(\\\\xi^{2} - 1\\\\right) \\\\left(\\\\eta - 0.5\\\\right)\\\\right)}{- 7\\\\xi + 21\\\\eta + 78}\\\\\\\\\\\\frac{2 \\\\left(\\\\xi\\\\eta \\\\left(7\\\\xi + 3\\\\right) \\\\left(\\\\eta - 1\\\\right) - \\\\left(\\\\xi^{2} - 1\\\\right) \\\\left(\\\\eta - 0.5\\\\right) \\\\left(7\\\\eta + 27\\\\right)\\\\right)}{5 \\\\left(- 7\\\\xi + 21\\\\eta + 78\\\\right)}\\\\end{matrix}\\\\right]'"
            ],
            "application/vnd.google.colaboratory.intrinsic+json": {
              "type": "string"
            }
          },
          "metadata": {},
          "execution_count": 85
        }
      ]
    },
    {
      "cell_type": "code",
      "source": [
        "sp.latex(sp.simplify(J_inv * dN_3_l)).replace(' x', '\\\\xi').replace(' y', '\\\\eta').replace('(x', '(\\\\xi').replace('(y', '(\\\\eta')"
      ],
      "metadata": {
        "colab": {
          "base_uri": "https://localhost:8080/",
          "height": 69
        },
        "id": "6015jCJc3ZG2",
        "outputId": "1f7a0122-8ca2-4f19-9854-0126449c474f"
      },
      "execution_count": 86,
      "outputs": [
        {
          "output_type": "execute_result",
          "data": {
            "text/plain": [
              "'\\\\left[\\\\begin{matrix}\\\\frac{-\\\\xi \\\\left(\\\\xi + 1\\\\right) \\\\left(2\\\\eta - 1\\\\right) + 3\\\\eta \\\\left(2\\\\xi + 1\\\\right) \\\\left(\\\\eta - 1\\\\right)}{- 7\\\\xi + 21\\\\eta + 78}\\\\\\\\\\\\frac{x \\\\left(\\\\xi + 1\\\\right) \\\\left(2\\\\eta - 1\\\\right) \\\\left(7\\\\eta + 27\\\\right) -\\\\eta \\\\left(2\\\\xi + 1\\\\right) \\\\left(7\\\\xi + 3\\\\right) \\\\left(\\\\eta - 1\\\\right)}{10 \\\\left(- 7\\\\xi + 21\\\\eta + 78\\\\right)}\\\\end{matrix}\\\\right]'"
            ],
            "application/vnd.google.colaboratory.intrinsic+json": {
              "type": "string"
            }
          },
          "metadata": {},
          "execution_count": 86
        }
      ]
    },
    {
      "cell_type": "code",
      "source": [
        "sp.latex(sp.simplify(J_inv * dN_4_l)).replace(' x', '\\\\xi').replace(' y', '\\\\eta').replace('(x', '(\\\\xi').replace('(y', '(\\\\eta')"
      ],
      "metadata": {
        "colab": {
          "base_uri": "https://localhost:8080/",
          "height": 69
        },
        "id": "vjnTFlOp3ZAT",
        "outputId": "487735f8-d0f4-476c-fdd6-21e42a6a08cd"
      },
      "execution_count": 87,
      "outputs": [
        {
          "output_type": "execute_result",
          "data": {
            "text/plain": [
              "'\\\\left[\\\\begin{matrix}\\\\frac{4 \\\\left(\\\\xi\\\\eta \\\\left(\\\\xi + 1\\\\right) - 3 \\\\left(\\\\xi + 0.5\\\\right) \\\\left(\\\\eta^{2} - 1\\\\right)\\\\right)}{- 7\\\\xi + 21\\\\eta + 78}\\\\\\\\\\\\frac{2 \\\\left(-\\\\xi\\\\eta \\\\left(\\\\xi + 1\\\\right) \\\\left(7\\\\eta + 27\\\\right) + \\\\left(\\\\xi + 0.5\\\\right) \\\\left(7\\\\xi + 3\\\\right) \\\\left(\\\\eta^{2} - 1\\\\right)\\\\right)}{5 \\\\left(- 7\\\\xi + 21\\\\eta + 78\\\\right)}\\\\end{matrix}\\\\right]'"
            ],
            "application/vnd.google.colaboratory.intrinsic+json": {
              "type": "string"
            }
          },
          "metadata": {},
          "execution_count": 87
        }
      ]
    },
    {
      "cell_type": "code",
      "source": [
        "sp.latex(sp.simplify(J_inv * dN_5_l)).replace(' x', '\\\\xi').replace(' y', '\\\\eta').replace('(x', '(\\\\xi').replace('(y', '(\\\\eta')"
      ],
      "metadata": {
        "colab": {
          "base_uri": "https://localhost:8080/",
          "height": 69
        },
        "id": "4HDBwcwh3Y6E",
        "outputId": "78a313f4-a287-48a6-a4f8-0208144a5b0b"
      },
      "execution_count": 88,
      "outputs": [
        {
          "output_type": "execute_result",
          "data": {
            "text/plain": [
              "'\\\\left[\\\\begin{matrix}\\\\frac{-\\\\xi \\\\left(\\\\xi + 1\\\\right) \\\\left(2\\\\eta + 1\\\\right) + 3\\\\eta \\\\left(2\\\\xi + 1\\\\right) \\\\left(\\\\eta + 1\\\\right)}{- 7\\\\xi + 21\\\\eta + 78}\\\\\\\\\\\\frac{x \\\\left(\\\\xi + 1\\\\right) \\\\left(2\\\\eta + 1\\\\right) \\\\left(7\\\\eta + 27\\\\right) -\\\\eta \\\\left(2\\\\xi + 1\\\\right) \\\\left(7\\\\xi + 3\\\\right) \\\\left(\\\\eta + 1\\\\right)}{10 \\\\left(- 7\\\\xi + 21\\\\eta + 78\\\\right)}\\\\end{matrix}\\\\right]'"
            ],
            "application/vnd.google.colaboratory.intrinsic+json": {
              "type": "string"
            }
          },
          "metadata": {},
          "execution_count": 88
        }
      ]
    },
    {
      "cell_type": "code",
      "source": [
        "sp.latex(sp.simplify(J_inv * dN_6_l)).replace(' x', '\\\\xi').replace(' y', '\\\\eta').replace('(x', '(\\\\xi').replace('(y', '(\\\\eta')"
      ],
      "metadata": {
        "colab": {
          "base_uri": "https://localhost:8080/",
          "height": 69
        },
        "id": "Rccz0EF83Yzx",
        "outputId": "b2248887-8ccb-4f46-e823-0db53ea852b2"
      },
      "execution_count": 89,
      "outputs": [
        {
          "output_type": "execute_result",
          "data": {
            "text/plain": [
              "'\\\\left[\\\\begin{matrix}\\\\frac{4 \\\\left(- 3\\\\xi\\\\eta \\\\left(\\\\eta + 1\\\\right) + \\\\left(\\\\xi^{2} - 1\\\\right) \\\\left(\\\\eta + 0.5\\\\right)\\\\right)}{- 7\\\\xi + 21\\\\eta + 78}\\\\\\\\\\\\frac{2 \\\\left(\\\\xi\\\\eta \\\\left(7\\\\xi + 3\\\\right) \\\\left(\\\\eta + 1\\\\right) - \\\\left(\\\\xi^{2} - 1\\\\right) \\\\left(\\\\eta + 0.5\\\\right) \\\\left(7\\\\eta + 27\\\\right)\\\\right)}{5 \\\\left(- 7\\\\xi + 21\\\\eta + 78\\\\right)}\\\\end{matrix}\\\\right]'"
            ],
            "application/vnd.google.colaboratory.intrinsic+json": {
              "type": "string"
            }
          },
          "metadata": {},
          "execution_count": 89
        }
      ]
    },
    {
      "cell_type": "code",
      "source": [
        "sp.latex(sp.simplify(J_inv * dN_7_l)).replace(' x', '\\\\xi').replace(' y', '\\\\eta').replace('(x', '(\\\\xi').replace('(y', '(\\\\eta')"
      ],
      "metadata": {
        "colab": {
          "base_uri": "https://localhost:8080/",
          "height": 69
        },
        "id": "MiIJI4d63Yth",
        "outputId": "25c198b9-006f-47c0-e958-75a8d14836fa"
      },
      "execution_count": 90,
      "outputs": [
        {
          "output_type": "execute_result",
          "data": {
            "text/plain": [
              "'\\\\left[\\\\begin{matrix}\\\\frac{-\\\\xi \\\\left(\\\\xi - 1\\\\right) \\\\left(2\\\\eta + 1\\\\right) + 3\\\\eta \\\\left(2\\\\xi - 1\\\\right) \\\\left(\\\\eta + 1\\\\right)}{- 7\\\\xi + 21\\\\eta + 78}\\\\\\\\\\\\frac{x \\\\left(\\\\xi - 1\\\\right) \\\\left(2\\\\eta + 1\\\\right) \\\\left(7\\\\eta + 27\\\\right) -\\\\eta \\\\left(2\\\\xi - 1\\\\right) \\\\left(7\\\\xi + 3\\\\right) \\\\left(\\\\eta + 1\\\\right)}{10 \\\\left(- 7\\\\xi + 21\\\\eta + 78\\\\right)}\\\\end{matrix}\\\\right]'"
            ],
            "application/vnd.google.colaboratory.intrinsic+json": {
              "type": "string"
            }
          },
          "metadata": {},
          "execution_count": 90
        }
      ]
    },
    {
      "cell_type": "code",
      "source": [
        "sp.latex(sp.simplify(J_inv * dN_8_l)).replace(' x', '\\\\xi').replace(' y', '\\\\eta').replace('(x', '(\\\\xi').replace('(y', '(\\\\eta')"
      ],
      "metadata": {
        "colab": {
          "base_uri": "https://localhost:8080/",
          "height": 69
        },
        "id": "RffGQtmM3YmS",
        "outputId": "0286f46a-5f81-4f37-b2c6-60d333d45772"
      },
      "execution_count": 91,
      "outputs": [
        {
          "output_type": "execute_result",
          "data": {
            "text/plain": [
              "'\\\\left[\\\\begin{matrix}\\\\frac{4 \\\\left(\\\\xi\\\\eta \\\\left(\\\\xi - 1\\\\right) - 3 \\\\left(\\\\xi - 0.5\\\\right) \\\\left(\\\\eta^{2} - 1\\\\right)\\\\right)}{- 7\\\\xi + 21\\\\eta + 78}\\\\\\\\\\\\frac{2 \\\\left(-\\\\xi\\\\eta \\\\left(\\\\xi - 1\\\\right) \\\\left(7\\\\eta + 27\\\\right) + \\\\left(\\\\xi - 0.5\\\\right) \\\\left(7\\\\xi + 3\\\\right) \\\\left(\\\\eta^{2} - 1\\\\right)\\\\right)}{5 \\\\left(- 7\\\\xi + 21\\\\eta + 78\\\\right)}\\\\end{matrix}\\\\right]'"
            ],
            "application/vnd.google.colaboratory.intrinsic+json": {
              "type": "string"
            }
          },
          "metadata": {},
          "execution_count": 91
        }
      ]
    },
    {
      "cell_type": "code",
      "source": [
        "sp.latex(sp.simplify(J_inv * dN_0_l)).replace(' x', '\\\\xi').replace(' y', '\\\\eta').replace('(x', '(\\\\xi').replace('(y', '(\\\\eta')"
      ],
      "metadata": {
        "colab": {
          "base_uri": "https://localhost:8080/",
          "height": 69
        },
        "id": "nmYcRjJd3Tbs",
        "outputId": "b0ee49b4-5388-40ed-883d-592286748298"
      },
      "execution_count": 92,
      "outputs": [
        {
          "output_type": "execute_result",
          "data": {
            "text/plain": [
              "'\\\\left[\\\\begin{matrix}\\\\frac{8 \\\\left(3\\\\xi \\\\left(\\\\eta^{2} - 1\\\\right) -\\\\eta \\\\left(\\\\xi^{2} - 1\\\\right)\\\\right)}{- 7\\\\xi + 21\\\\eta + 78}\\\\\\\\\\\\frac{4 \\\\left(-\\\\xi \\\\left(7\\\\xi + 3\\\\right) \\\\left(\\\\eta^{2} - 1\\\\right) +\\\\eta \\\\left(\\\\xi^{2} - 1\\\\right) \\\\left(7\\\\eta + 27\\\\right)\\\\right)}{5 \\\\left(- 7\\\\xi + 21\\\\eta + 78\\\\right)}\\\\end{matrix}\\\\right]'"
            ],
            "application/vnd.google.colaboratory.intrinsic+json": {
              "type": "string"
            }
          },
          "metadata": {},
          "execution_count": 92
        }
      ]
    },
    {
      "cell_type": "markdown",
      "source": [
        "Интеграл"
      ],
      "metadata": {
        "id": "9uw7aDdF3_gV"
      }
    },
    {
      "cell_type": "markdown",
      "source": [
        "Сирендипово семейство"
      ],
      "metadata": {
        "id": "2KRsCwsw4BCT"
      }
    },
    {
      "cell_type": "code",
      "source": [
        "DN = sp.Matrix([dN_1, dN_2, dN_3, dN_4, dN_5, dN_6, dN_7, dN_8])"
      ],
      "metadata": {
        "id": "tFnS0x2l4eEX"
      },
      "execution_count": 103,
      "outputs": []
    },
    {
      "cell_type": "code",
      "source": [
        "points = np.array([-0.906180, -0.538469, 0, 0.538469, 0.906180])"
      ],
      "metadata": {
        "id": "3Ia2JIPW71PH"
      },
      "execution_count": 95,
      "outputs": []
    },
    {
      "cell_type": "code",
      "source": [
        "H = []"
      ],
      "metadata": {
        "id": "C2iYmaNX-GYf"
      },
      "execution_count": 124,
      "outputs": []
    },
    {
      "cell_type": "code",
      "source": [
        "H = [0.236927, 0.478629, 0.568889, 0.478629, 0.236927]"
      ],
      "metadata": {
        "id": "v2lVLvP84p7N"
      },
      "execution_count": 128,
      "outputs": []
    },
    {
      "cell_type": "code",
      "source": [
        "len(H)"
      ],
      "metadata": {
        "colab": {
          "base_uri": "https://localhost:8080/"
        },
        "id": "jJN-69Ms-EJj",
        "outputId": "f47117db-0a96-4170-e0f1-d3507f83e8f0"
      },
      "execution_count": 127,
      "outputs": [
        {
          "output_type": "execute_result",
          "data": {
            "text/plain": [
              "8"
            ]
          },
          "metadata": {},
          "execution_count": 127
        }
      ]
    },
    {
      "cell_type": "code",
      "source": [
        "I = 0\n",
        "for i, xi_curr in enumerate(points):\n",
        "    for j, eta_curr in enumerate(points):\n",
        "        w_i = H[i]\n",
        "        w_j = H[j]\n",
        "\n",
        "        Ni = DN[i].subs(xi, xi_curr).subs(eta, eta_curr)\n",
        "        Nj = DN[j].subs(xi, xi_curr).subs(eta, eta_curr)\n",
        "        I += w_i * w_j * Ni * Nj\n",
        "I"
      ],
      "metadata": {
        "colab": {
          "base_uri": "https://localhost:8080/",
          "height": 37
        },
        "id": "-gsyL88i8VUy",
        "outputId": "e98f1b27-3967-4fdd-fd5b-4a3b0314d937"
      },
      "execution_count": 130,
      "outputs": [
        {
          "output_type": "execute_result",
          "data": {
            "text/plain": [
              "0.329607297002496"
            ],
            "text/latex": "$\\displaystyle 0.329607297002496$"
          },
          "metadata": {},
          "execution_count": 130
        }
      ]
    },
    {
      "cell_type": "markdown",
      "source": [
        "Лагранжево семейство"
      ],
      "metadata": {
        "id": "zJP2TGB4-Onn"
      }
    },
    {
      "cell_type": "code",
      "source": [
        "DN_l = sp.Matrix([dN_1_l, dN_2_l, dN_3_l, dN_4_l, dN_5_l, dN_6_l, dN_7_l, dN_8_l, dN_0_l])"
      ],
      "metadata": {
        "id": "5UdTceUl9x-v"
      },
      "execution_count": 131,
      "outputs": []
    },
    {
      "cell_type": "code",
      "source": [
        "I_l = 0\n",
        "for i, xi_curr in enumerate(points):\n",
        "    for j, eta_curr in enumerate(points):\n",
        "        w_i = H[i]\n",
        "        w_j = H[j]\n",
        "\n",
        "        Ni = DN_l[i].subs(xi, xi_curr).subs(eta, eta_curr)\n",
        "        Nj = DN_l[j].subs(xi, xi_curr).subs(eta, eta_curr)\n",
        "        I += w_i * w_j * Ni * Nj\n",
        "I"
      ],
      "metadata": {
        "colab": {
          "base_uri": "https://localhost:8080/",
          "height": 37
        },
        "id": "uMeWfifz-XgI",
        "outputId": "2202fe3d-f136-45c9-95ce-01e6e5700a50"
      },
      "execution_count": 132,
      "outputs": [
        {
          "output_type": "execute_result",
          "data": {
            "text/plain": [
              "0.573658143217398"
            ],
            "text/latex": "$\\displaystyle 0.573658143217398$"
          },
          "metadata": {},
          "execution_count": 132
        }
      ]
    },
    {
      "cell_type": "code",
      "source": [],
      "metadata": {
        "id": "g9g5GVz1-cB_"
      },
      "execution_count": null,
      "outputs": []
    }
  ]
}